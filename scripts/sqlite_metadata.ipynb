{
 "cells": [
  {
   "cell_type": "markdown",
   "id": "541d7569-f891-4cc2-96d9-275d635f0a0d",
   "metadata": {},
   "source": [
    "# Attempt to consolidate and curate metadata for asignment 9 using SQLite"
   ]
  },
  {
   "cell_type": "code",
   "execution_count": 5,
   "id": "58fd9130-8351-4b37-b1e6-773422af8e7b",
   "metadata": {},
   "outputs": [],
   "source": [
    "cd /shared/ifbstor1/projects/2314_medbioinfo/radoslaw/MedBioinfo/data"
   ]
  },
  {
   "cell_type": "code",
   "execution_count": null,
   "id": "454955e2-0510-4966-b346-8c370fee0f54",
   "metadata": {},
   "outputs": [
    {
     "name": "stdout",
     "output_type": "stream",
     "text": [
      "SQLite version 3.36.0 2021-06-18 18:36:39\n",
      "Enter \".help\" for usage hints.\n"
     ]
    }
   ],
   "source": [
    "sqlite3 metadata.db "
   ]
  }
 ],
 "metadata": {
  "kernelspec": {
   "display_name": "Bash",
   "language": "bash",
   "name": "bash"
  },
  "language_info": {
   "codemirror_mode": "shell",
   "file_extension": ".sh",
   "mimetype": "text/x-sh",
   "name": "bash"
  }
 },
 "nbformat": 4,
 "nbformat_minor": 5
}
